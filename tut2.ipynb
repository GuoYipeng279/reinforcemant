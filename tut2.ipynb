{
 "cells": [
  {
   "cell_type": "code",
   "execution_count": 1,
   "id": "07f0c293",
   "metadata": {},
   "outputs": [],
   "source": [
    "import numpy as np"
   ]
  },
  {
   "cell_type": "code",
   "execution_count": 2,
   "id": "2d13f849",
   "metadata": {},
   "outputs": [],
   "source": [
    "P = np.array([\n",
    "    [0., .5, 0., .5, 0., 0., 0.],\n",
    "    [0., 0., .8, 0., 0., 0., .2],\n",
    "    [0., 0., 0., 0., .4, .6, 0.],\n",
    "    [.1, 0., 0., .9, 0., 0., 0.],\n",
    "    [.2, .4, .4, 0., 0., 0., 0.],\n",
    "    [0., 0., 0., 0., 0., 0., 1.],\n",
    "    [0., 0., 0., 0., 0., 0., 1.]\n",
    "])"
   ]
  },
  {
   "cell_type": "code",
   "execution_count": 3,
   "id": "3fdc95ce",
   "metadata": {},
   "outputs": [],
   "source": [
    "R = np.array([\n",
    "    [-2.],\n",
    "    [-2.],\n",
    "    [-2.],\n",
    "    [-1.],\n",
    "    [1.],\n",
    "    [10.],\n",
    "    [0.]\n",
    "])"
   ]
  },
  {
   "cell_type": "code",
   "execution_count": 4,
   "id": "14dab8d8",
   "metadata": {},
   "outputs": [],
   "source": [
    "gamma = 0."
   ]
  },
  {
   "cell_type": "code",
   "execution_count": 5,
   "id": "1846ad82",
   "metadata": {},
   "outputs": [],
   "source": [
    "v = np.linalg.inv(np.eye(7) - gamma * P) @ R"
   ]
  },
  {
   "cell_type": "code",
   "execution_count": 6,
   "id": "c7919214",
   "metadata": {},
   "outputs": [
    {
     "data": {
      "text/plain": [
       "array([[-2.],\n",
       "       [-2.],\n",
       "       [-2.],\n",
       "       [-1.],\n",
       "       [ 1.],\n",
       "       [10.],\n",
       "       [ 0.]])"
      ]
     },
     "execution_count": 6,
     "metadata": {},
     "output_type": "execute_result"
    }
   ],
   "source": [
    "v"
   ]
  },
  {
   "cell_type": "code",
   "execution_count": null,
   "id": "efcc0fc5",
   "metadata": {},
   "outputs": [],
   "source": []
  }
 ],
 "metadata": {
  "kernelspec": {
   "display_name": "Python 3",
   "language": "python",
   "name": "python3"
  },
  "language_info": {
   "codemirror_mode": {
    "name": "ipython",
    "version": 3
   },
   "file_extension": ".py",
   "mimetype": "text/x-python",
   "name": "python",
   "nbconvert_exporter": "python",
   "pygments_lexer": "ipython3",
   "version": "3.8.8"
  }
 },
 "nbformat": 4,
 "nbformat_minor": 5
}
